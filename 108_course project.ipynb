{
 "cells": [
  {
   "cell_type": "markdown",
   "metadata": {},
   "source": [
    "# Курсовой проект по теме «Теория вероятностей и математическая статистика»"
   ]
  },
  {
   "cell_type": "markdown",
   "metadata": {},
   "source": [
    "## Постановка задачи"
   ]
  },
  {
   "cell_type": "markdown",
   "metadata": {},
   "source": [
    "### Задача"
   ]
  },
  {
   "cell_type": "markdown",
   "metadata": {},
   "source": [
    "Требуется провести EDA (разведочный анализ данных) экологических показателей."
   ]
  },
  {
   "cell_type": "markdown",
   "metadata": {},
   "source": [
    "### Примерное описание этапов выполнения курсового проекта"
   ]
  },
  {
   "cell_type": "markdown",
   "metadata": {},
   "source": [
    "1. Обзор данных\n",
    "2. Выделение групп признаков\n",
    "3. Обработка выбросов и пропусков в целях повышения качества данных\n",
    "4. Анализ признаков (без нормализации и с нормализацией данных)"
   ]
  },
  {
   "cell_type": "markdown",
   "metadata": {},
   "source": [
    "## Решение"
   ]
  },
  {
   "cell_type": "markdown",
   "metadata": {},
   "source": [
    "### Обзор данных"
   ]
  },
  {
   "cell_type": "markdown",
   "metadata": {},
   "source": [
    "**Описание датасета**\n",
    "\n",
    "* **Id** - идентификационный номер\n",
    "* **Output** - источник измерения экологических показателей\n",
    "* **District** - территория измерения экологических показателей\n",
    "* **Total** - объемный показатель\n",
    "* **D1 - D20** - экологические показатели"
   ]
  },
  {
   "cell_type": "markdown",
   "metadata": {},
   "source": [
    "#### Подключение библиотек и скриптов"
   ]
  },
  {
   "cell_type": "code",
   "execution_count": 352,
   "metadata": {},
   "outputs": [],
   "source": [
    "import numpy as np\n",
    "import pandas as pd\n",
    "from pathlib import Path\n",
    "\n",
    "import matplotlib.pyplot as plt\n",
    "import seaborn as sns\n",
    "\n",
    "import itertools\n",
    "from pprint import pprint"
   ]
  },
  {
   "cell_type": "markdown",
   "metadata": {},
   "source": [
    "#### Пути к директориям и файлам"
   ]
  },
  {
   "cell_type": "code",
   "execution_count": 353,
   "metadata": {},
   "outputs": [],
   "source": [
    "DATA_ROOT = Path('./data/')\n",
    "\n",
    "# input\n",
    "TRAIN_DATASET_PATH = DATA_ROOT / 'down.csv'"
   ]
  },
  {
   "cell_type": "markdown",
   "metadata": {},
   "source": [
    "#### Загрузка данных"
   ]
  },
  {
   "cell_type": "code",
   "execution_count": 354,
   "metadata": {},
   "outputs": [],
   "source": [
    "# 'Id': np.int32,, 'Total': np.float\n",
    "base_df = pd.read_csv(TRAIN_DATASET_PATH,sep=';',decimal=',',index_col=0,\\\n",
    "                      dtype={'Output': np.str_, 'District': np.str_,'Id': np.int32})\n",
    "train_df = pd.read_csv(TRAIN_DATASET_PATH,sep=';',decimal=',',index_col=0,\\\n",
    "                      dtype={'Output': np.str_, 'District': np.str_,'Id': np.int32})"
   ]
  },
  {
   "cell_type": "code",
   "execution_count": 355,
   "metadata": {},
   "outputs": [
    {
     "data": {
      "text/html": [
       "<div>\n",
       "<style scoped>\n",
       "    .dataframe tbody tr th:only-of-type {\n",
       "        vertical-align: middle;\n",
       "    }\n",
       "\n",
       "    .dataframe tbody tr th {\n",
       "        vertical-align: top;\n",
       "    }\n",
       "\n",
       "    .dataframe thead th {\n",
       "        text-align: right;\n",
       "    }\n",
       "</style>\n",
       "<table border=\"1\" class=\"dataframe\">\n",
       "  <thead>\n",
       "    <tr style=\"text-align: right;\">\n",
       "      <th></th>\n",
       "      <th>Output</th>\n",
       "      <th>District</th>\n",
       "      <th>Total</th>\n",
       "      <th>D1</th>\n",
       "      <th>D2</th>\n",
       "      <th>D3</th>\n",
       "      <th>D4</th>\n",
       "      <th>D5</th>\n",
       "      <th>D6</th>\n",
       "      <th>D7</th>\n",
       "      <th>...</th>\n",
       "      <th>D11</th>\n",
       "      <th>D12</th>\n",
       "      <th>D13</th>\n",
       "      <th>D14</th>\n",
       "      <th>D15</th>\n",
       "      <th>D16</th>\n",
       "      <th>D17</th>\n",
       "      <th>D18</th>\n",
       "      <th>D19</th>\n",
       "      <th>D20</th>\n",
       "    </tr>\n",
       "    <tr>\n",
       "      <th>Id</th>\n",
       "      <th></th>\n",
       "      <th></th>\n",
       "      <th></th>\n",
       "      <th></th>\n",
       "      <th></th>\n",
       "      <th></th>\n",
       "      <th></th>\n",
       "      <th></th>\n",
       "      <th></th>\n",
       "      <th></th>\n",
       "      <th></th>\n",
       "      <th></th>\n",
       "      <th></th>\n",
       "      <th></th>\n",
       "      <th></th>\n",
       "      <th></th>\n",
       "      <th></th>\n",
       "      <th></th>\n",
       "      <th></th>\n",
       "      <th></th>\n",
       "      <th></th>\n",
       "    </tr>\n",
       "  </thead>\n",
       "  <tbody>\n",
       "    <tr>\n",
       "      <th>1</th>\n",
       "      <td>1</td>\n",
       "      <td>002</td>\n",
       "      <td>1332.276</td>\n",
       "      <td>0.0</td>\n",
       "      <td>0.0</td>\n",
       "      <td>7.7</td>\n",
       "      <td>1.60</td>\n",
       "      <td>0.0</td>\n",
       "      <td>14.5</td>\n",
       "      <td>7.46</td>\n",
       "      <td>...</td>\n",
       "      <td>0.000</td>\n",
       "      <td>0.0</td>\n",
       "      <td>0.0</td>\n",
       "      <td>0.00</td>\n",
       "      <td>0.00</td>\n",
       "      <td>0.0</td>\n",
       "      <td>0.0</td>\n",
       "      <td>0.0</td>\n",
       "      <td>0.0</td>\n",
       "      <td>0.0</td>\n",
       "    </tr>\n",
       "    <tr>\n",
       "      <th>2</th>\n",
       "      <td>6</td>\n",
       "      <td>009</td>\n",
       "      <td>0.390</td>\n",
       "      <td>7.0</td>\n",
       "      <td>392.0</td>\n",
       "      <td>7.5</td>\n",
       "      <td>0.81</td>\n",
       "      <td>NaN</td>\n",
       "      <td>2.3</td>\n",
       "      <td>14.00</td>\n",
       "      <td>...</td>\n",
       "      <td>NaN</td>\n",
       "      <td>NaN</td>\n",
       "      <td>NaN</td>\n",
       "      <td>NaN</td>\n",
       "      <td>0.33</td>\n",
       "      <td>NaN</td>\n",
       "      <td>NaN</td>\n",
       "      <td>NaN</td>\n",
       "      <td>NaN</td>\n",
       "      <td>NaN</td>\n",
       "    </tr>\n",
       "    <tr>\n",
       "      <th>3</th>\n",
       "      <td>7</td>\n",
       "      <td>009</td>\n",
       "      <td>0.390</td>\n",
       "      <td>6.4</td>\n",
       "      <td>373.0</td>\n",
       "      <td>7.6</td>\n",
       "      <td>0.77</td>\n",
       "      <td>NaN</td>\n",
       "      <td>2.5</td>\n",
       "      <td>14.00</td>\n",
       "      <td>...</td>\n",
       "      <td>NaN</td>\n",
       "      <td>NaN</td>\n",
       "      <td>NaN</td>\n",
       "      <td>NaN</td>\n",
       "      <td>2.00</td>\n",
       "      <td>NaN</td>\n",
       "      <td>NaN</td>\n",
       "      <td>NaN</td>\n",
       "      <td>NaN</td>\n",
       "      <td>NaN</td>\n",
       "    </tr>\n",
       "    <tr>\n",
       "      <th>4</th>\n",
       "      <td>8</td>\n",
       "      <td>009</td>\n",
       "      <td>0.130</td>\n",
       "      <td>5.6</td>\n",
       "      <td>445.0</td>\n",
       "      <td>7.8</td>\n",
       "      <td>0.28</td>\n",
       "      <td>NaN</td>\n",
       "      <td>9.1</td>\n",
       "      <td>162.00</td>\n",
       "      <td>...</td>\n",
       "      <td>NaN</td>\n",
       "      <td>NaN</td>\n",
       "      <td>NaN</td>\n",
       "      <td>NaN</td>\n",
       "      <td>3.89</td>\n",
       "      <td>NaN</td>\n",
       "      <td>NaN</td>\n",
       "      <td>NaN</td>\n",
       "      <td>NaN</td>\n",
       "      <td>NaN</td>\n",
       "    </tr>\n",
       "    <tr>\n",
       "      <th>5</th>\n",
       "      <td>9</td>\n",
       "      <td>009</td>\n",
       "      <td>14.877</td>\n",
       "      <td>6.2</td>\n",
       "      <td>352.0</td>\n",
       "      <td>7.5</td>\n",
       "      <td>0.60</td>\n",
       "      <td>NaN</td>\n",
       "      <td>3.0</td>\n",
       "      <td>14.00</td>\n",
       "      <td>...</td>\n",
       "      <td>0.063</td>\n",
       "      <td>0.0</td>\n",
       "      <td>NaN</td>\n",
       "      <td>10.47</td>\n",
       "      <td>2.51</td>\n",
       "      <td>7.0</td>\n",
       "      <td>NaN</td>\n",
       "      <td>NaN</td>\n",
       "      <td>49.0</td>\n",
       "      <td>41.0</td>\n",
       "    </tr>\n",
       "  </tbody>\n",
       "</table>\n",
       "<p>5 rows × 23 columns</p>\n",
       "</div>"
      ],
      "text/plain": [
       "   Output District     Total   D1     D2   D3    D4   D5    D6      D7  ...  \\\n",
       "Id                                                                      ...   \n",
       "1       1      002  1332.276  0.0    0.0  7.7  1.60  0.0  14.5    7.46  ...   \n",
       "2       6      009     0.390  7.0  392.0  7.5  0.81  NaN   2.3   14.00  ...   \n",
       "3       7      009     0.390  6.4  373.0  7.6  0.77  NaN   2.5   14.00  ...   \n",
       "4       8      009     0.130  5.6  445.0  7.8  0.28  NaN   9.1  162.00  ...   \n",
       "5       9      009    14.877  6.2  352.0  7.5  0.60  NaN   3.0   14.00  ...   \n",
       "\n",
       "      D11  D12  D13    D14   D15  D16  D17  D18   D19   D20  \n",
       "Id                                                           \n",
       "1   0.000  0.0  0.0   0.00  0.00  0.0  0.0  0.0   0.0   0.0  \n",
       "2     NaN  NaN  NaN    NaN  0.33  NaN  NaN  NaN   NaN   NaN  \n",
       "3     NaN  NaN  NaN    NaN  2.00  NaN  NaN  NaN   NaN   NaN  \n",
       "4     NaN  NaN  NaN    NaN  3.89  NaN  NaN  NaN   NaN   NaN  \n",
       "5   0.063  0.0  NaN  10.47  2.51  7.0  NaN  NaN  49.0  41.0  \n",
       "\n",
       "[5 rows x 23 columns]"
      ]
     },
     "execution_count": 355,
     "metadata": {},
     "output_type": "execute_result"
    }
   ],
   "source": [
    "train_df.head()"
   ]
  },
  {
   "cell_type": "code",
   "execution_count": 356,
   "metadata": {},
   "outputs": [
    {
     "data": {
      "text/plain": [
       "(528, 23)"
      ]
     },
     "execution_count": 356,
     "metadata": {},
     "output_type": "execute_result"
    }
   ],
   "source": [
    "train_df.shape"
   ]
  },
  {
   "cell_type": "code",
   "execution_count": 357,
   "metadata": {},
   "outputs": [
    {
     "data": {
      "text/plain": [
       "Output            1\n",
       "District        002\n",
       "Total       1332.28\n",
       "D1                0\n",
       "D2                0\n",
       "D3              7.7\n",
       "D4              1.6\n",
       "D5                0\n",
       "D6             14.5\n",
       "D7             7.46\n",
       "D8              0.1\n",
       "D9                0\n",
       "D10               0\n",
       "D11               0\n",
       "D12               0\n",
       "D13               0\n",
       "D14               0\n",
       "D15               0\n",
       "D16               0\n",
       "D17               0\n",
       "D18               0\n",
       "D19               0\n",
       "D20               0\n",
       "Name: 1, dtype: object"
      ]
     },
     "execution_count": 357,
     "metadata": {},
     "output_type": "execute_result"
    }
   ],
   "source": [
    "train_df.iloc[0]"
   ]
  },
  {
   "cell_type": "code",
   "execution_count": 358,
   "metadata": {},
   "outputs": [
    {
     "name": "stdout",
     "output_type": "stream",
     "text": [
      "<class 'pandas.core.frame.DataFrame'>\n",
      "Int64Index: 528 entries, 1 to 528\n",
      "Data columns (total 23 columns):\n",
      " #   Column    Non-Null Count  Dtype  \n",
      "---  ------    --------------  -----  \n",
      " 0   Output    528 non-null    object \n",
      " 1   District  528 non-null    object \n",
      " 2   Total     528 non-null    float64\n",
      " 3   D1        528 non-null    float64\n",
      " 4   D2        528 non-null    float64\n",
      " 5   D3        528 non-null    float64\n",
      " 6   D4        528 non-null    float64\n",
      " 7   D5        373 non-null    float64\n",
      " 8   D6        515 non-null    float64\n",
      " 9   D7        511 non-null    float64\n",
      " 10  D8        501 non-null    float64\n",
      " 11  D9        182 non-null    float64\n",
      " 12  D10       331 non-null    float64\n",
      " 13  D11       192 non-null    float64\n",
      " 14  D12       344 non-null    float64\n",
      " 15  D13       278 non-null    float64\n",
      " 16  D14       281 non-null    float64\n",
      " 17  D15       486 non-null    float64\n",
      " 18  D16       331 non-null    float64\n",
      " 19  D17       195 non-null    float64\n",
      " 20  D18       187 non-null    float64\n",
      " 21  D19       252 non-null    float64\n",
      " 22  D20       247 non-null    float64\n",
      "dtypes: float64(21), object(2)\n",
      "memory usage: 99.0+ KB\n"
     ]
    }
   ],
   "source": [
    "train_df.info()"
   ]
  },
  {
   "cell_type": "markdown",
   "metadata": {},
   "source": [
    "### Выделение групп признаков"
   ]
  },
  {
   "cell_type": "code",
   "execution_count": 359,
   "metadata": {},
   "outputs": [],
   "source": [
    "EX_FEATURES = ['Output', 'District', 'Total']\n",
    "D_FEATURES = base_df.columns.drop(EX_FEATURES).tolist()\n",
    "\n",
    "# Создадим группу признаков с обязательными показателями\n",
    "DUE_D_FEATURES = ['D1', 'D2', 'D3', 'D4', 'D6', 'D7', 'D8', 'D15']\n",
    "\n",
    "# Создадим группу признаков с необязательными показателями \n",
    "FREE_D_FEATURES = list(itertools.filterfalse(DUE_D_FEATURES.__contains__, iter(D_FEATURES)))"
   ]
  },
  {
   "cell_type": "code",
   "execution_count": 360,
   "metadata": {},
   "outputs": [
    {
     "data": {
      "text/html": [
       "<div>\n",
       "<style scoped>\n",
       "    .dataframe tbody tr th:only-of-type {\n",
       "        vertical-align: middle;\n",
       "    }\n",
       "\n",
       "    .dataframe tbody tr th {\n",
       "        vertical-align: top;\n",
       "    }\n",
       "\n",
       "    .dataframe thead th {\n",
       "        text-align: right;\n",
       "    }\n",
       "</style>\n",
       "<table border=\"1\" class=\"dataframe\">\n",
       "  <thead>\n",
       "    <tr style=\"text-align: right;\">\n",
       "      <th></th>\n",
       "      <th>D1</th>\n",
       "      <th>D2</th>\n",
       "      <th>D3</th>\n",
       "      <th>D4</th>\n",
       "      <th>D6</th>\n",
       "      <th>D7</th>\n",
       "      <th>D8</th>\n",
       "      <th>D15</th>\n",
       "    </tr>\n",
       "  </thead>\n",
       "  <tbody>\n",
       "    <tr>\n",
       "      <th>count</th>\n",
       "      <td>528.000000</td>\n",
       "      <td>528.000000</td>\n",
       "      <td>528.000000</td>\n",
       "      <td>528.000000</td>\n",
       "      <td>515.000000</td>\n",
       "      <td>511.000000</td>\n",
       "      <td>501.000000</td>\n",
       "      <td>486.000000</td>\n",
       "    </tr>\n",
       "    <tr>\n",
       "      <th>mean</th>\n",
       "      <td>5.554242</td>\n",
       "      <td>407.754186</td>\n",
       "      <td>7.274621</td>\n",
       "      <td>1.419754</td>\n",
       "      <td>31.981165</td>\n",
       "      <td>76.011135</td>\n",
       "      <td>0.689142</td>\n",
       "      <td>0.748465</td>\n",
       "    </tr>\n",
       "    <tr>\n",
       "      <th>std</th>\n",
       "      <td>4.791913</td>\n",
       "      <td>313.267051</td>\n",
       "      <td>3.226574</td>\n",
       "      <td>3.386064</td>\n",
       "      <td>59.192778</td>\n",
       "      <td>137.187835</td>\n",
       "      <td>3.684930</td>\n",
       "      <td>3.560574</td>\n",
       "    </tr>\n",
       "    <tr>\n",
       "      <th>min</th>\n",
       "      <td>0.000000</td>\n",
       "      <td>0.000000</td>\n",
       "      <td>0.000000</td>\n",
       "      <td>0.000000</td>\n",
       "      <td>0.000000</td>\n",
       "      <td>0.000000</td>\n",
       "      <td>0.000000</td>\n",
       "      <td>0.000000</td>\n",
       "    </tr>\n",
       "    <tr>\n",
       "      <th>25%</th>\n",
       "      <td>3.175000</td>\n",
       "      <td>254.000000</td>\n",
       "      <td>7.200000</td>\n",
       "      <td>0.520000</td>\n",
       "      <td>6.605000</td>\n",
       "      <td>10.650000</td>\n",
       "      <td>0.080000</td>\n",
       "      <td>0.177250</td>\n",
       "    </tr>\n",
       "    <tr>\n",
       "      <th>50%</th>\n",
       "      <td>5.190000</td>\n",
       "      <td>346.000000</td>\n",
       "      <td>7.400000</td>\n",
       "      <td>0.840000</td>\n",
       "      <td>15.000000</td>\n",
       "      <td>31.830000</td>\n",
       "      <td>0.310000</td>\n",
       "      <td>0.290000</td>\n",
       "    </tr>\n",
       "    <tr>\n",
       "      <th>75%</th>\n",
       "      <td>6.977500</td>\n",
       "      <td>475.250000</td>\n",
       "      <td>7.600000</td>\n",
       "      <td>1.500000</td>\n",
       "      <td>31.900000</td>\n",
       "      <td>85.000000</td>\n",
       "      <td>0.580000</td>\n",
       "      <td>0.530000</td>\n",
       "    </tr>\n",
       "    <tr>\n",
       "      <th>max</th>\n",
       "      <td>73.000000</td>\n",
       "      <td>2401.000000</td>\n",
       "      <td>73.000000</td>\n",
       "      <td>73.000000</td>\n",
       "      <td>615.000000</td>\n",
       "      <td>1382.400000</td>\n",
       "      <td>73.000000</td>\n",
       "      <td>73.000000</td>\n",
       "    </tr>\n",
       "  </tbody>\n",
       "</table>\n",
       "</div>"
      ],
      "text/plain": [
       "               D1           D2          D3          D4          D6  \\\n",
       "count  528.000000   528.000000  528.000000  528.000000  515.000000   \n",
       "mean     5.554242   407.754186    7.274621    1.419754   31.981165   \n",
       "std      4.791913   313.267051    3.226574    3.386064   59.192778   \n",
       "min      0.000000     0.000000    0.000000    0.000000    0.000000   \n",
       "25%      3.175000   254.000000    7.200000    0.520000    6.605000   \n",
       "50%      5.190000   346.000000    7.400000    0.840000   15.000000   \n",
       "75%      6.977500   475.250000    7.600000    1.500000   31.900000   \n",
       "max     73.000000  2401.000000   73.000000   73.000000  615.000000   \n",
       "\n",
       "                D7          D8         D15  \n",
       "count   511.000000  501.000000  486.000000  \n",
       "mean     76.011135    0.689142    0.748465  \n",
       "std     137.187835    3.684930    3.560574  \n",
       "min       0.000000    0.000000    0.000000  \n",
       "25%      10.650000    0.080000    0.177250  \n",
       "50%      31.830000    0.310000    0.290000  \n",
       "75%      85.000000    0.580000    0.530000  \n",
       "max    1382.400000   73.000000   73.000000  "
      ]
     },
     "execution_count": 360,
     "metadata": {},
     "output_type": "execute_result"
    }
   ],
   "source": [
    "train_df[DUE_D_FEATURES].describe()"
   ]
  },
  {
   "cell_type": "code",
   "execution_count": 361,
   "metadata": {},
   "outputs": [
    {
     "data": {
      "text/html": [
       "<div>\n",
       "<style scoped>\n",
       "    .dataframe tbody tr th:only-of-type {\n",
       "        vertical-align: middle;\n",
       "    }\n",
       "\n",
       "    .dataframe tbody tr th {\n",
       "        vertical-align: top;\n",
       "    }\n",
       "\n",
       "    .dataframe thead th {\n",
       "        text-align: right;\n",
       "    }\n",
       "</style>\n",
       "<table border=\"1\" class=\"dataframe\">\n",
       "  <thead>\n",
       "    <tr style=\"text-align: right;\">\n",
       "      <th></th>\n",
       "      <th>D5</th>\n",
       "      <th>D9</th>\n",
       "      <th>D10</th>\n",
       "      <th>D11</th>\n",
       "      <th>D12</th>\n",
       "      <th>D13</th>\n",
       "      <th>D14</th>\n",
       "      <th>D16</th>\n",
       "      <th>D17</th>\n",
       "      <th>D18</th>\n",
       "      <th>D19</th>\n",
       "      <th>D20</th>\n",
       "    </tr>\n",
       "  </thead>\n",
       "  <tbody>\n",
       "    <tr>\n",
       "      <th>count</th>\n",
       "      <td>373.000000</td>\n",
       "      <td>182.000000</td>\n",
       "      <td>331.000000</td>\n",
       "      <td>192.000000</td>\n",
       "      <td>344.000000</td>\n",
       "      <td>278.000000</td>\n",
       "      <td>281.000000</td>\n",
       "      <td>331.000000</td>\n",
       "      <td>195.000000</td>\n",
       "      <td>187.000000</td>\n",
       "      <td>252.000000</td>\n",
       "      <td>247.000000</td>\n",
       "    </tr>\n",
       "    <tr>\n",
       "      <th>mean</th>\n",
       "      <td>0.025273</td>\n",
       "      <td>0.066626</td>\n",
       "      <td>0.525353</td>\n",
       "      <td>0.011120</td>\n",
       "      <td>0.218954</td>\n",
       "      <td>0.005978</td>\n",
       "      <td>1.598000</td>\n",
       "      <td>10.613505</td>\n",
       "      <td>0.000062</td>\n",
       "      <td>0.000833</td>\n",
       "      <td>53.278056</td>\n",
       "      <td>17.854615</td>\n",
       "    </tr>\n",
       "    <tr>\n",
       "      <th>std</th>\n",
       "      <td>0.037563</td>\n",
       "      <td>0.096442</td>\n",
       "      <td>5.147308</td>\n",
       "      <td>0.018232</td>\n",
       "      <td>3.935550</td>\n",
       "      <td>0.009625</td>\n",
       "      <td>3.103124</td>\n",
       "      <td>14.774940</td>\n",
       "      <td>0.000048</td>\n",
       "      <td>0.002651</td>\n",
       "      <td>45.880500</td>\n",
       "      <td>15.655272</td>\n",
       "    </tr>\n",
       "    <tr>\n",
       "      <th>min</th>\n",
       "      <td>0.000000</td>\n",
       "      <td>0.000000</td>\n",
       "      <td>0.000000</td>\n",
       "      <td>0.000000</td>\n",
       "      <td>0.000000</td>\n",
       "      <td>0.000000</td>\n",
       "      <td>0.000000</td>\n",
       "      <td>0.000000</td>\n",
       "      <td>0.000000</td>\n",
       "      <td>0.000000</td>\n",
       "      <td>0.000000</td>\n",
       "      <td>0.000000</td>\n",
       "    </tr>\n",
       "    <tr>\n",
       "      <th>25%</th>\n",
       "      <td>0.015000</td>\n",
       "      <td>0.001000</td>\n",
       "      <td>0.050000</td>\n",
       "      <td>0.000000</td>\n",
       "      <td>0.002000</td>\n",
       "      <td>0.001000</td>\n",
       "      <td>0.095000</td>\n",
       "      <td>1.055000</td>\n",
       "      <td>0.000000</td>\n",
       "      <td>0.000000</td>\n",
       "      <td>9.875000</td>\n",
       "      <td>4.000000</td>\n",
       "    </tr>\n",
       "    <tr>\n",
       "      <th>50%</th>\n",
       "      <td>0.025000</td>\n",
       "      <td>0.050000</td>\n",
       "      <td>0.080000</td>\n",
       "      <td>0.006000</td>\n",
       "      <td>0.002000</td>\n",
       "      <td>0.001000</td>\n",
       "      <td>0.470000</td>\n",
       "      <td>7.700000</td>\n",
       "      <td>0.000100</td>\n",
       "      <td>0.000100</td>\n",
       "      <td>50.450000</td>\n",
       "      <td>17.020000</td>\n",
       "    </tr>\n",
       "    <tr>\n",
       "      <th>75%</th>\n",
       "      <td>0.025000</td>\n",
       "      <td>0.097500</td>\n",
       "      <td>0.236000</td>\n",
       "      <td>0.015000</td>\n",
       "      <td>0.005000</td>\n",
       "      <td>0.010000</td>\n",
       "      <td>1.400000</td>\n",
       "      <td>11.800000</td>\n",
       "      <td>0.000100</td>\n",
       "      <td>0.000200</td>\n",
       "      <td>85.722500</td>\n",
       "      <td>27.915000</td>\n",
       "    </tr>\n",
       "    <tr>\n",
       "      <th>max</th>\n",
       "      <td>0.320000</td>\n",
       "      <td>0.700000</td>\n",
       "      <td>93.000000</td>\n",
       "      <td>0.190000</td>\n",
       "      <td>73.000000</td>\n",
       "      <td>0.080000</td>\n",
       "      <td>21.500000</td>\n",
       "      <td>117.200000</td>\n",
       "      <td>0.000100</td>\n",
       "      <td>0.030000</td>\n",
       "      <td>246.790000</td>\n",
       "      <td>94.600000</td>\n",
       "    </tr>\n",
       "  </tbody>\n",
       "</table>\n",
       "</div>"
      ],
      "text/plain": [
       "               D5          D9         D10         D11         D12         D13  \\\n",
       "count  373.000000  182.000000  331.000000  192.000000  344.000000  278.000000   \n",
       "mean     0.025273    0.066626    0.525353    0.011120    0.218954    0.005978   \n",
       "std      0.037563    0.096442    5.147308    0.018232    3.935550    0.009625   \n",
       "min      0.000000    0.000000    0.000000    0.000000    0.000000    0.000000   \n",
       "25%      0.015000    0.001000    0.050000    0.000000    0.002000    0.001000   \n",
       "50%      0.025000    0.050000    0.080000    0.006000    0.002000    0.001000   \n",
       "75%      0.025000    0.097500    0.236000    0.015000    0.005000    0.010000   \n",
       "max      0.320000    0.700000   93.000000    0.190000   73.000000    0.080000   \n",
       "\n",
       "              D14         D16         D17         D18         D19         D20  \n",
       "count  281.000000  331.000000  195.000000  187.000000  252.000000  247.000000  \n",
       "mean     1.598000   10.613505    0.000062    0.000833   53.278056   17.854615  \n",
       "std      3.103124   14.774940    0.000048    0.002651   45.880500   15.655272  \n",
       "min      0.000000    0.000000    0.000000    0.000000    0.000000    0.000000  \n",
       "25%      0.095000    1.055000    0.000000    0.000000    9.875000    4.000000  \n",
       "50%      0.470000    7.700000    0.000100    0.000100   50.450000   17.020000  \n",
       "75%      1.400000   11.800000    0.000100    0.000200   85.722500   27.915000  \n",
       "max     21.500000  117.200000    0.000100    0.030000  246.790000   94.600000  "
      ]
     },
     "execution_count": 361,
     "metadata": {},
     "output_type": "execute_result"
    }
   ],
   "source": [
    "train_df[FREE_D_FEATURES].describe()"
   ]
  },
  {
   "cell_type": "markdown",
   "metadata": {},
   "source": [
    "### Обработка выбросов и пропусков"
   ]
  },
  {
   "cell_type": "code",
   "execution_count": 362,
   "metadata": {},
   "outputs": [
    {
     "data": {
      "text/plain": [
       "Output        0\n",
       "District      0\n",
       "Total         0\n",
       "D1            0\n",
       "D2            0\n",
       "D3            0\n",
       "D4            0\n",
       "D5          155\n",
       "D6           13\n",
       "D7           17\n",
       "D8           27\n",
       "D9          346\n",
       "D10         197\n",
       "D11         336\n",
       "D12         184\n",
       "D13         250\n",
       "D14         247\n",
       "D15          42\n",
       "D16         197\n",
       "D17         333\n",
       "D18         341\n",
       "D19         276\n",
       "D20         281\n",
       "dtype: int64"
      ]
     },
     "execution_count": 362,
     "metadata": {},
     "output_type": "execute_result"
    }
   ],
   "source": [
    "train_df.isna().sum()"
   ]
  },
  {
   "cell_type": "markdown",
   "metadata": {},
   "source": [
    "**Пояснение**\n",
    "\n",
    "По 12 признакам имеются множественные пропуски, потому что проведение измерений показателей не являтся обязательным."
   ]
  },
  {
   "cell_type": "markdown",
   "metadata": {},
   "source": [
    "#### Отбрасывание записей с одинаковым максимальным значением разных D-показателей"
   ]
  },
  {
   "cell_type": "markdown",
   "metadata": {},
   "source": [
    "В группе признаков с обязательными показателями DUE_D_FEATURES в пяти из восьми признаков одинаковое значение максимума: 73. "
   ]
  },
  {
   "cell_type": "code",
   "execution_count": 363,
   "metadata": {},
   "outputs": [],
   "source": [
    "def argmax_list_func(df_features):\n",
    "    argmax_list = []\n",
    "    \n",
    "    for i in range(len(df_features)):\n",
    "        argmax_i = train_df[df_features[i]].argmax()\n",
    "        argmax_list.append(argmax_i)\n",
    "    \n",
    "    return argmax_list"
   ]
  },
  {
   "cell_type": "code",
   "execution_count": 364,
   "metadata": {},
   "outputs": [
    {
     "name": "stdout",
     "output_type": "stream",
     "text": [
      "[486, 256, 486, 486, 226, 252, 486, 486]\n"
     ]
    }
   ],
   "source": [
    "pprint(argmax_list_func(DUE_D_FEATURES))"
   ]
  },
  {
   "cell_type": "code",
   "execution_count": 365,
   "metadata": {},
   "outputs": [
    {
     "name": "stdout",
     "output_type": "stream",
     "text": [
      "[328, 485, 131, 498, 486, 322, 336, 360, 46, 485, 326, 226]\n"
     ]
    }
   ],
   "source": [
    "pprint(argmax_list_func(FREE_D_FEATURES))"
   ]
  },
  {
   "cell_type": "code",
   "execution_count": 366,
   "metadata": {},
   "outputs": [],
   "source": [
    "train_df = train_df.drop(487, axis=0)"
   ]
  },
  {
   "cell_type": "markdown",
   "metadata": {},
   "source": [
    "#### Отбрасывание записей с нулевым значением признака D3"
   ]
  },
  {
   "cell_type": "code",
   "execution_count": 367,
   "metadata": {},
   "outputs": [],
   "source": [
    "train_df = train_df.eval(\"S = {}\".format(\"+\".join(D_FEATURES)))\n",
    "train_df = train_df[train_df['S'] > 0].drop('S', axis=1)"
   ]
  },
  {
   "cell_type": "code",
   "execution_count": 368,
   "metadata": {},
   "outputs": [
    {
     "data": {
      "text/html": [
       "<div>\n",
       "<style scoped>\n",
       "    .dataframe tbody tr th:only-of-type {\n",
       "        vertical-align: middle;\n",
       "    }\n",
       "\n",
       "    .dataframe tbody tr th {\n",
       "        vertical-align: top;\n",
       "    }\n",
       "\n",
       "    .dataframe thead th {\n",
       "        text-align: right;\n",
       "    }\n",
       "</style>\n",
       "<table border=\"1\" class=\"dataframe\">\n",
       "  <thead>\n",
       "    <tr style=\"text-align: right;\">\n",
       "      <th></th>\n",
       "      <th>Total</th>\n",
       "      <th>D1</th>\n",
       "      <th>D2</th>\n",
       "      <th>D3</th>\n",
       "      <th>D4</th>\n",
       "      <th>D5</th>\n",
       "      <th>D6</th>\n",
       "      <th>D7</th>\n",
       "      <th>D8</th>\n",
       "      <th>D9</th>\n",
       "      <th>...</th>\n",
       "      <th>D11</th>\n",
       "      <th>D12</th>\n",
       "      <th>D13</th>\n",
       "      <th>D14</th>\n",
       "      <th>D15</th>\n",
       "      <th>D16</th>\n",
       "      <th>D17</th>\n",
       "      <th>D18</th>\n",
       "      <th>D19</th>\n",
       "      <th>D20</th>\n",
       "    </tr>\n",
       "  </thead>\n",
       "  <tbody>\n",
       "    <tr>\n",
       "      <th>count</th>\n",
       "      <td>54.000000</td>\n",
       "      <td>54.000000</td>\n",
       "      <td>54.000000</td>\n",
       "      <td>54.000000</td>\n",
       "      <td>54.000000</td>\n",
       "      <td>54.000000</td>\n",
       "      <td>54.000000</td>\n",
       "      <td>54.000000</td>\n",
       "      <td>54.000000</td>\n",
       "      <td>54.000000</td>\n",
       "      <td>...</td>\n",
       "      <td>54.000000</td>\n",
       "      <td>54.000000</td>\n",
       "      <td>54.000000</td>\n",
       "      <td>54.000000</td>\n",
       "      <td>54.000000</td>\n",
       "      <td>54.000000</td>\n",
       "      <td>54.000000</td>\n",
       "      <td>54.000000</td>\n",
       "      <td>54.000000</td>\n",
       "      <td>54.000000</td>\n",
       "    </tr>\n",
       "    <tr>\n",
       "      <th>mean</th>\n",
       "      <td>2451.391130</td>\n",
       "      <td>5.518889</td>\n",
       "      <td>535.025926</td>\n",
       "      <td>7.531296</td>\n",
       "      <td>1.001111</td>\n",
       "      <td>0.017611</td>\n",
       "      <td>83.229074</td>\n",
       "      <td>108.732963</td>\n",
       "      <td>0.182222</td>\n",
       "      <td>0.058185</td>\n",
       "      <td>...</td>\n",
       "      <td>0.006704</td>\n",
       "      <td>0.004593</td>\n",
       "      <td>0.006519</td>\n",
       "      <td>0.662444</td>\n",
       "      <td>0.842056</td>\n",
       "      <td>4.198333</td>\n",
       "      <td>0.000045</td>\n",
       "      <td>0.000593</td>\n",
       "      <td>47.690556</td>\n",
       "      <td>18.976296</td>\n",
       "    </tr>\n",
       "    <tr>\n",
       "      <th>std</th>\n",
       "      <td>4733.653193</td>\n",
       "      <td>3.570483</td>\n",
       "      <td>438.238534</td>\n",
       "      <td>0.516070</td>\n",
       "      <td>0.779600</td>\n",
       "      <td>0.041106</td>\n",
       "      <td>137.007361</td>\n",
       "      <td>108.822789</td>\n",
       "      <td>0.339504</td>\n",
       "      <td>0.103870</td>\n",
       "      <td>...</td>\n",
       "      <td>0.011140</td>\n",
       "      <td>0.004101</td>\n",
       "      <td>0.011631</td>\n",
       "      <td>2.026148</td>\n",
       "      <td>3.480794</td>\n",
       "      <td>8.979651</td>\n",
       "      <td>0.000050</td>\n",
       "      <td>0.004078</td>\n",
       "      <td>50.732837</td>\n",
       "      <td>21.114864</td>\n",
       "    </tr>\n",
       "    <tr>\n",
       "      <th>min</th>\n",
       "      <td>0.300000</td>\n",
       "      <td>0.000000</td>\n",
       "      <td>0.000000</td>\n",
       "      <td>6.000000</td>\n",
       "      <td>0.000000</td>\n",
       "      <td>0.000000</td>\n",
       "      <td>0.000000</td>\n",
       "      <td>0.000000</td>\n",
       "      <td>0.000000</td>\n",
       "      <td>0.000000</td>\n",
       "      <td>...</td>\n",
       "      <td>0.000000</td>\n",
       "      <td>0.000000</td>\n",
       "      <td>0.000000</td>\n",
       "      <td>0.000000</td>\n",
       "      <td>0.000000</td>\n",
       "      <td>0.000000</td>\n",
       "      <td>0.000000</td>\n",
       "      <td>0.000000</td>\n",
       "      <td>0.000000</td>\n",
       "      <td>0.000000</td>\n",
       "    </tr>\n",
       "    <tr>\n",
       "      <th>25%</th>\n",
       "      <td>60.466750</td>\n",
       "      <td>2.950000</td>\n",
       "      <td>276.300000</td>\n",
       "      <td>7.232500</td>\n",
       "      <td>0.612500</td>\n",
       "      <td>0.000000</td>\n",
       "      <td>6.060000</td>\n",
       "      <td>39.600000</td>\n",
       "      <td>0.000000</td>\n",
       "      <td>0.000000</td>\n",
       "      <td>...</td>\n",
       "      <td>0.000000</td>\n",
       "      <td>0.001125</td>\n",
       "      <td>0.000000</td>\n",
       "      <td>0.000000</td>\n",
       "      <td>0.085000</td>\n",
       "      <td>0.000000</td>\n",
       "      <td>0.000000</td>\n",
       "      <td>0.000000</td>\n",
       "      <td>0.000000</td>\n",
       "      <td>0.000000</td>\n",
       "    </tr>\n",
       "    <tr>\n",
       "      <th>50%</th>\n",
       "      <td>361.100500</td>\n",
       "      <td>5.850000</td>\n",
       "      <td>418.300000</td>\n",
       "      <td>7.545000</td>\n",
       "      <td>0.815000</td>\n",
       "      <td>0.012500</td>\n",
       "      <td>25.680000</td>\n",
       "      <td>79.500000</td>\n",
       "      <td>0.100000</td>\n",
       "      <td>0.050000</td>\n",
       "      <td>...</td>\n",
       "      <td>0.000000</td>\n",
       "      <td>0.005000</td>\n",
       "      <td>0.002000</td>\n",
       "      <td>0.000000</td>\n",
       "      <td>0.180000</td>\n",
       "      <td>0.000000</td>\n",
       "      <td>0.000000</td>\n",
       "      <td>0.000000</td>\n",
       "      <td>36.800000</td>\n",
       "      <td>14.425000</td>\n",
       "    </tr>\n",
       "    <tr>\n",
       "      <th>75%</th>\n",
       "      <td>2847.361500</td>\n",
       "      <td>7.000000</td>\n",
       "      <td>631.250000</td>\n",
       "      <td>7.775000</td>\n",
       "      <td>1.100000</td>\n",
       "      <td>0.025000</td>\n",
       "      <td>91.675000</td>\n",
       "      <td>145.500000</td>\n",
       "      <td>0.100000</td>\n",
       "      <td>0.068750</td>\n",
       "      <td>...</td>\n",
       "      <td>0.015000</td>\n",
       "      <td>0.010000</td>\n",
       "      <td>0.010000</td>\n",
       "      <td>0.250000</td>\n",
       "      <td>0.247500</td>\n",
       "      <td>4.537500</td>\n",
       "      <td>0.000100</td>\n",
       "      <td>0.000000</td>\n",
       "      <td>85.307500</td>\n",
       "      <td>34.205000</td>\n",
       "    </tr>\n",
       "    <tr>\n",
       "      <th>max</th>\n",
       "      <td>27515.585000</td>\n",
       "      <td>17.900000</td>\n",
       "      <td>2213.000000</td>\n",
       "      <td>8.700000</td>\n",
       "      <td>5.000000</td>\n",
       "      <td>0.300000</td>\n",
       "      <td>615.000000</td>\n",
       "      <td>500.000000</td>\n",
       "      <td>2.000000</td>\n",
       "      <td>0.700000</td>\n",
       "      <td>...</td>\n",
       "      <td>0.053000</td>\n",
       "      <td>0.010000</td>\n",
       "      <td>0.080000</td>\n",
       "      <td>12.000000</td>\n",
       "      <td>25.500000</td>\n",
       "      <td>60.000000</td>\n",
       "      <td>0.000100</td>\n",
       "      <td>0.030000</td>\n",
       "      <td>199.000000</td>\n",
       "      <td>94.600000</td>\n",
       "    </tr>\n",
       "  </tbody>\n",
       "</table>\n",
       "<p>8 rows × 21 columns</p>\n",
       "</div>"
      ],
      "text/plain": [
       "              Total         D1           D2         D3         D4         D5  \\\n",
       "count     54.000000  54.000000    54.000000  54.000000  54.000000  54.000000   \n",
       "mean    2451.391130   5.518889   535.025926   7.531296   1.001111   0.017611   \n",
       "std     4733.653193   3.570483   438.238534   0.516070   0.779600   0.041106   \n",
       "min        0.300000   0.000000     0.000000   6.000000   0.000000   0.000000   \n",
       "25%       60.466750   2.950000   276.300000   7.232500   0.612500   0.000000   \n",
       "50%      361.100500   5.850000   418.300000   7.545000   0.815000   0.012500   \n",
       "75%     2847.361500   7.000000   631.250000   7.775000   1.100000   0.025000   \n",
       "max    27515.585000  17.900000  2213.000000   8.700000   5.000000   0.300000   \n",
       "\n",
       "               D6          D7         D8         D9  ...        D11  \\\n",
       "count   54.000000   54.000000  54.000000  54.000000  ...  54.000000   \n",
       "mean    83.229074  108.732963   0.182222   0.058185  ...   0.006704   \n",
       "std    137.007361  108.822789   0.339504   0.103870  ...   0.011140   \n",
       "min      0.000000    0.000000   0.000000   0.000000  ...   0.000000   \n",
       "25%      6.060000   39.600000   0.000000   0.000000  ...   0.000000   \n",
       "50%     25.680000   79.500000   0.100000   0.050000  ...   0.000000   \n",
       "75%     91.675000  145.500000   0.100000   0.068750  ...   0.015000   \n",
       "max    615.000000  500.000000   2.000000   0.700000  ...   0.053000   \n",
       "\n",
       "             D12        D13        D14        D15        D16        D17  \\\n",
       "count  54.000000  54.000000  54.000000  54.000000  54.000000  54.000000   \n",
       "mean    0.004593   0.006519   0.662444   0.842056   4.198333   0.000045   \n",
       "std     0.004101   0.011631   2.026148   3.480794   8.979651   0.000050   \n",
       "min     0.000000   0.000000   0.000000   0.000000   0.000000   0.000000   \n",
       "25%     0.001125   0.000000   0.000000   0.085000   0.000000   0.000000   \n",
       "50%     0.005000   0.002000   0.000000   0.180000   0.000000   0.000000   \n",
       "75%     0.010000   0.010000   0.250000   0.247500   4.537500   0.000100   \n",
       "max     0.010000   0.080000  12.000000  25.500000  60.000000   0.000100   \n",
       "\n",
       "             D18         D19        D20  \n",
       "count  54.000000   54.000000  54.000000  \n",
       "mean    0.000593   47.690556  18.976296  \n",
       "std     0.004078   50.732837  21.114864  \n",
       "min     0.000000    0.000000   0.000000  \n",
       "25%     0.000000    0.000000   0.000000  \n",
       "50%     0.000000   36.800000  14.425000  \n",
       "75%     0.000000   85.307500  34.205000  \n",
       "max     0.030000  199.000000  94.600000  \n",
       "\n",
       "[8 rows x 21 columns]"
      ]
     },
     "execution_count": 368,
     "metadata": {},
     "output_type": "execute_result"
    }
   ],
   "source": [
    "train_df.describe()"
   ]
  },
  {
   "cell_type": "markdown",
   "metadata": {},
   "source": [
    "### Анализ признаков"
   ]
  },
  {
   "cell_type": "code",
   "execution_count": 369,
   "metadata": {},
   "outputs": [
    {
     "data": {
      "text/plain": [
       "array([[<matplotlib.axes._subplots.AxesSubplot object at 0x000002C686EF5B48>,\n",
       "        <matplotlib.axes._subplots.AxesSubplot object at 0x000002C686EE0288>,\n",
       "        <matplotlib.axes._subplots.AxesSubplot object at 0x000002C686AC68C8>],\n",
       "       [<matplotlib.axes._subplots.AxesSubplot object at 0x000002C686AA4C48>,\n",
       "        <matplotlib.axes._subplots.AxesSubplot object at 0x000002C68674C988>,\n",
       "        <matplotlib.axes._subplots.AxesSubplot object at 0x000002C686E86488>],\n",
       "       [<matplotlib.axes._subplots.AxesSubplot object at 0x000002C6877D9108>,\n",
       "        <matplotlib.axes._subplots.AxesSubplot object at 0x000002C6877D36C8>,\n",
       "        <matplotlib.axes._subplots.AxesSubplot object at 0x000002C686EC22C8>]],\n",
       "      dtype=object)"
      ]
     },
     "execution_count": 369,
     "metadata": {},
     "output_type": "execute_result"
    },
    {
     "data": {
      "image/png": "[encoded data removed]",
      "text/plain": [
       "<Figure size 1152x576 with 9 Axes>"
      ]
     },
     "metadata": {
      "needs_background": "light"
     },
     "output_type": "display_data"
    }
   ],
   "source": [
    "train_df[DUE_D_FEATURES].hist(figsize=(16,8), bins=40, color='y', grid=False)"
   ]
  },
  {
   "cell_type": "code",
   "execution_count": 370,
   "metadata": {},
   "outputs": [],
   "source": [
    "# Зададим значения нормативных лимитов по признакам D1 - D20:\n",
    "norm = [7, 1000, 7.5, 5, 0.5,\n",
    "       350, 500, 1.5, 0.7, 0.5,\n",
    "       0.03, 0.01, 0.02, 7, 1.5,\n",
    "        60, 0.002, 0.03, 3.5, 50]"
   ]
  },
  {
   "cell_type": "code",
   "execution_count": 371,
   "metadata": {},
   "outputs": [],
   "source": [
    "# Определим функцию, которая собирает в списки максимальные и медианные значения признаков\n",
    "def borders(df_features):\n",
    "    max_list = []\n",
    "    median_list = []\n",
    "    \n",
    "    for i in range(len(df_features)):\n",
    "        max_i = train_df[df_features[i]].max()\n",
    "        max_list.append(max_i)\n",
    "\n",
    "        median_i = train_df[df_features[i]].median()\n",
    "        median_list.append(median_i)\n",
    "    \n",
    "    return max_list, median_list"
   ]
  },
  {
   "cell_type": "code",
   "execution_count": 372,
   "metadata": {},
   "outputs": [
    {
     "data": {
      "image/png": "[encoded data removed]",
      "text/plain": [
       "<Figure size 1152x288 with 1 Axes>"
      ]
     },
     "metadata": {
      "needs_background": "light"
     },
     "output_type": "display_data"
    }
   ],
   "source": [
    "# Получим списки максимальных и медианных значений D-признаков\n",
    "max_list = borders(D_FEATURES)[0]\n",
    "median_list = borders(D_FEATURES)[1]\n",
    "\n",
    "# Построим график 'Нормативные лимиты, максимумы и медианы D-признаков (без нормализации данных)'\n",
    "index_d = np.arange(20)\n",
    "\n",
    "fig = plt.figure(figsize = (16, 4))\n",
    "plt.title('Нормативные лимиты, максимумы и медианы D-признаков (без нормализации данных)',\n",
    "          fontsize=20, fontname='Times New Roman') \n",
    "y1 = norm  # график предельно допустимых концентраций \n",
    "y2 = max_list  # график максимумов\n",
    "y3 = median_list  # график медиан \n",
    "plt.plot(y1,'g-',y2,'r^',y3,'ys')\n",
    "\n",
    "plt.xticks(index_d,D_FEATURES)\n",
    "plt.legend(['Нормативный лимит','Максимум','Медиана'], loc=1)\n",
    "plt.show()"
   ]
  },
  {
   "cell_type": "code",
   "execution_count": 373,
   "metadata": {},
   "outputs": [
    {
     "data": {
      "image/png": "[encoded data removed]",
      "text/plain": [
       "<Figure size 1152x288 with 1 Axes>"
      ]
     },
     "metadata": {
      "needs_background": "light"
     },
     "output_type": "display_data"
    }
   ],
   "source": [
    "# Построим график 'Нормативные лимиты и медианы D-признаков (без нормализации данных)'\n",
    "index_d = np.arange(20)\n",
    "\n",
    "fig = plt.figure(figsize = (16, 4))\n",
    "plt.title('Нормативные лимиты и медианы D-признаков (без нормализации данных)',\n",
    "          fontsize=20, fontname='Times New Roman') \n",
    "y1 = norm  # график предельно допустимых концентраций \n",
    "y3 = median_list  # график медиан \n",
    "plt.plot(y1,'g-',y3,'ys')\n",
    "\n",
    "plt.xticks(index_d,D_FEATURES)\n",
    "plt.legend(['Максимум','Медиана'], loc=1)\n",
    "plt.show()"
   ]
  },
  {
   "cell_type": "code",
   "execution_count": 374,
   "metadata": {},
   "outputs": [],
   "source": [
    "# to do Исключить признаки, в которых максимум меньше ПДК\n",
    "def best_norm(df_features):\n",
    "    best_list = []\n",
    "    \n",
    "    norm = [7, 1000, 7.5, 5, 0.5,\n",
    "       350, 500, 1.5, 0.7, 0.5,\n",
    "       0.03, 0.01, 0.02, 7, 1.5,\n",
    "        60, 0.002, 0.03, 3.5, 50]\n",
    "    \n",
    "    for i in range(len(df_features)):\n",
    "        max_i = train_df[df_features[i]].max()\n",
    "        norm_i = norm[i]\n",
    "        \n",
    "        if norm_i >= max_i:\n",
    "            best_list.append(df_features[i])\n",
    "  \n",
    "    return best_list"
   ]
  },
  {
   "cell_type": "code",
   "execution_count": 375,
   "metadata": {},
   "outputs": [
    {
     "data": {
      "text/plain": [
       "['D4', 'D5', 'D7', 'D9', 'D12', 'D16', 'D17', 'D18']"
      ]
     },
     "execution_count": 375,
     "metadata": {},
     "output_type": "execute_result"
    }
   ],
   "source": [
    "BEST_D_FEATURES = best_norm(D_FEATURES)\n",
    "BEST_D_FEATURES"
   ]
  },
  {
   "cell_type": "code",
   "execution_count": 376,
   "metadata": {},
   "outputs": [
    {
     "data": {
      "text/plain": [
       "['D1', 'D2', 'D6', 'D8', 'D10', 'D11', 'D13', 'D14', 'D15', 'D19', 'D20']"
      ]
     },
     "execution_count": 376,
     "metadata": {},
     "output_type": "execute_result"
    }
   ],
   "source": [
    "# Создадим группу признаков с интересующими D-показателями \n",
    "FOX_D_FEATURES = list(itertools.filterfalse(BEST_D_FEATURES.__contains__, iter(D_FEATURES)))\n",
    "PH_FEATURES = ['D3']\n",
    "FOX_D_FEATURES = list(itertools.filterfalse(PH_FEATURES.__contains__, iter(FOX_D_FEATURES)))\n",
    "FOX_D_FEATURES"
   ]
  },
  {
   "cell_type": "markdown",
   "metadata": {},
   "source": [
    "### Нормализация данных"
   ]
  },
  {
   "cell_type": "code",
   "execution_count": 377,
   "metadata": {},
   "outputs": [],
   "source": [
    "import pickle\n",
    "\n",
    "from sklearn.preprocessing import StandardScaler, MinMaxScaler"
   ]
  },
  {
   "cell_type": "code",
   "execution_count": 378,
   "metadata": {},
   "outputs": [],
   "source": [
    "# output\n",
    "MODELS_PATH = Path('./models/')\n",
    "MODEL_FILE_PATH = MODELS_PATH / 'model.pkl'\n",
    "\n",
    "SCALER_FILE_PATH = MODELS_PATH / 'scaler.pkl'"
   ]
  },
  {
   "cell_type": "code",
   "execution_count": 379,
   "metadata": {},
   "outputs": [],
   "source": [
    "scaler = StandardScaler()\n",
    "\n",
    "norm_df = train_df.copy()\n",
    "norm_df[D_FEATURES] = scaler.fit_transform(norm_df[D_FEATURES])\n",
    "\n",
    "train_df = norm_df.copy()\n",
    "\n",
    "# Сохранение модели для нормализации данных\n",
    "with open(SCALER_FILE_PATH, 'wb') as file:\n",
    "    pickle.dump(scaler, file)"
   ]
  },
  {
   "cell_type": "code",
   "execution_count": 380,
   "metadata": {},
   "outputs": [
    {
     "data": {
      "image/png": "[encoded data removed]",
      "text/plain": [
       "<Figure size 1040x800 with 1 Axes>"
      ]
     },
     "metadata": {
      "needs_background": "light"
     },
     "output_type": "display_data"
    }
   ],
   "source": [
    "plt.figure(figsize=(13,10), dpi= 80)\n",
    "sns.boxplot(data=train_df[FOX_D_FEATURES], palette='rainbow', orient='h');  # orient='r' для горизонтального представления"
   ]
  },
  {
   "cell_type": "code",
   "execution_count": 381,
   "metadata": {},
   "outputs": [
    {
     "data": {
      "image/png": "[encoded data removed]",
      "text/plain": [
       "<Figure size 1152x288 with 1 Axes>"
      ]
     },
     "metadata": {
      "needs_background": "light"
     },
     "output_type": "display_data"
    }
   ],
   "source": [
    "max_norm_list = borders(FOX_D_FEATURES)[0]\n",
    "median_norm_list = borders(FOX_D_FEATURES)[1]\n",
    "\n",
    "# Построим график 'Максимумы и медианы интересующих D-признаков (с нормализацией данных)'\n",
    "index_d = np.arange(len(FOX_D_FEATURES))\n",
    "\n",
    "fig = plt.figure(figsize = (16, 4))\n",
    "plt.title('Максимумы и медианы интересующих D-признаков (с нормализацией данных)',\n",
    "          fontsize=20, fontname='Times New Roman') \n",
    "y2 = max_norm_list\n",
    "y3 = median_norm_list\n",
    "plt.plot(y2,'r-',y3,'y-')\n",
    "\n",
    "plt.xticks(index_d,FOX_D_FEATURES)\n",
    "plt.legend(['Максимум','Медиана'], loc=1)\n",
    "plt.show()"
   ]
  },
  {
   "cell_type": "code",
   "execution_count": 382,
   "metadata": {},
   "outputs": [
    {
     "data": {
      "text/plain": [
       "array([[<matplotlib.axes._subplots.AxesSubplot object at 0x000002C688798448>,\n",
       "        <matplotlib.axes._subplots.AxesSubplot object at 0x000002C688C32648>,\n",
       "        <matplotlib.axes._subplots.AxesSubplot object at 0x000002C688AF99C8>],\n",
       "       [<matplotlib.axes._subplots.AxesSubplot object at 0x000002C688B32B08>,\n",
       "        <matplotlib.axes._subplots.AxesSubplot object at 0x000002C688B6AC08>,\n",
       "        <matplotlib.axes._subplots.AxesSubplot object at 0x000002C688BA2D08>],\n",
       "       [<matplotlib.axes._subplots.AxesSubplot object at 0x000002C688BDAE08>,\n",
       "        <matplotlib.axes._subplots.AxesSubplot object at 0x000002C688C62F08>,\n",
       "        <matplotlib.axes._subplots.AxesSubplot object at 0x000002C688C6EB08>],\n",
       "       [<matplotlib.axes._subplots.AxesSubplot object at 0x000002C688CA5CC8>,\n",
       "        <matplotlib.axes._subplots.AxesSubplot object at 0x000002C688D102C8>,\n",
       "        <matplotlib.axes._subplots.AxesSubplot object at 0x000002C688D49348>]],\n",
       "      dtype=object)"
      ]
     },
     "execution_count": 382,
     "metadata": {},
     "output_type": "execute_result"
    },
    {
     "data": {
      "image/png": "[encoded data removed]",
      "text/plain": [
       "<Figure size 1152x576 with 12 Axes>"
      ]
     },
     "metadata": {
      "needs_background": "light"
     },
     "output_type": "display_data"
    }
   ],
   "source": [
    "train_df[FOX_D_FEATURES].hist(figsize=(16,8), bins=40, color='y', grid=False)"
   ]
  },
  {
   "cell_type": "markdown",
   "metadata": {},
   "source": [
    "### Вывод"
   ]
  },
  {
   "cell_type": "markdown",
   "metadata": {},
   "source": [
    "По итогам проведенного EDA предлагаются следующие дальнейшие шаги:\n",
    "\n",
    "1. В интересующих D-признаках значения, равные нулю, и пропуски заменить на значения нормативных лимитов.\n",
    "2. Снова исследовать персентили в интересующих D-признаках.\n",
    "3. Интересующие D-признаки перевести в категориальные, применив или бинарнное деление \"в пределах нормативного лимита / сверх нормативного лимита\", или более сложные группировки.\n",
    "4. Попробовать выполнить кластеризацию на основании интересующих D-признаков."
   ]
  },
  {
   "cell_type": "code",
   "execution_count": null,
   "metadata": {},
   "outputs": [],
   "source": []
  }
 ],
 "metadata": {
  "kernelspec": {
   "display_name": "Python 3",
   "language": "python",
   "name": "python3"
  },
  "language_info": {
   "codemirror_mode": {
    "name": "ipython",
    "version": 3
   },
   "file_extension": ".py",
   "mimetype": "text/x-python",
   "name": "python",
   "nbconvert_exporter": "python",
   "pygments_lexer": "ipython3",
   "version": "3.7.6"
  }
 },
 "nbformat": 4,
 "nbformat_minor": 4
}

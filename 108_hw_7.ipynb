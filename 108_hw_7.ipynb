{
 "cells": [
  {
   "cell_type": "markdown",
   "metadata": {},
   "source": [
    "# Курс «Теория вероятностей и математическая статистика»"
   ]
  },
  {
   "cell_type": "markdown",
   "metadata": {},
   "source": [
    "## Урок 7. Многомерный статистический анализ. Линейная регрессия"
   ]
  },
  {
   "cell_type": "markdown",
   "metadata": {},
   "source": [
    "### Задание 1\n",
    "\n",
    "Даны значения величины заработной платы заемщиков банка (zp) и значения их поведенческого кредитного скоринга (ks): \n",
    "\n",
    "zp = [35, 45, 190, 200, 40, 70, 54, 150, 120, 110], \n",
    "\n",
    "ks = [401, 574, 874, 919, 459, 739, 653, 902, 746, 832]. \n",
    "\n",
    "Используя математические операции, посчитать коэффициенты линейной регрессии, приняв за X заработную плату (то есть, zp - признак), а за y - значения скорингового балла (то есть, ks - целевая переменная). \n",
    "\n",
    "Произвести расчет как с использованием intercept, так и без."
   ]
  },
  {
   "cell_type": "code",
   "execution_count": 20,
   "metadata": {},
   "outputs": [],
   "source": [
    "import numpy as np\n",
    "import math\n",
    "from scipy import stats\n",
    "import seaborn as sns"
   ]
  },
  {
   "cell_type": "code",
   "execution_count": 21,
   "metadata": {},
   "outputs": [
    {
     "data": {
      "text/plain": [
       "array([[ 35],\n",
       "       [ 45],\n",
       "       [190],\n",
       "       [200],\n",
       "       [ 40],\n",
       "       [ 70],\n",
       "       [ 54],\n",
       "       [150],\n",
       "       [120],\n",
       "       [110]])"
      ]
     },
     "execution_count": 21,
     "metadata": {},
     "output_type": "execute_result"
    }
   ],
   "source": [
    "zp = np.array([35, 45, 190, 200, 40, 70, 54, 150, 120, 110])\n",
    "X = zp.reshape(10,1)\n",
    "X"
   ]
  },
  {
   "cell_type": "code",
   "execution_count": 22,
   "metadata": {},
   "outputs": [
    {
     "data": {
      "text/plain": [
       "array([[401],\n",
       "       [574],\n",
       "       [874],\n",
       "       [919],\n",
       "       [459],\n",
       "       [739],\n",
       "       [653],\n",
       "       [902],\n",
       "       [746],\n",
       "       [832]])"
      ]
     },
     "execution_count": 22,
     "metadata": {},
     "output_type": "execute_result"
    }
   ],
   "source": [
    "ks = np.array([401, 574, 874, 919, 459, 739, 653, 902, 746, 832])\n",
    "Y = ks.reshape(10,1)\n",
    "Y"
   ]
  },
  {
   "cell_type": "markdown",
   "metadata": {},
   "source": [
    "#### Модель без интерсепта"
   ]
  },
  {
   "cell_type": "code",
   "execution_count": 23,
   "metadata": {},
   "outputs": [
    {
     "data": {
      "text/plain": [
       "array([[5.88982042]])"
      ]
     },
     "execution_count": 23,
     "metadata": {},
     "output_type": "execute_result"
    }
   ],
   "source": [
    "# Найдем коэффиицент beta\n",
    "B = np.dot(np.linalg.inv(np.dot(X.T,X)),X.T@Y)\n",
    "B"
   ]
  },
  {
   "cell_type": "markdown",
   "metadata": {},
   "source": [
    "Ответ: B1=5.88982"
   ]
  },
  {
   "cell_type": "markdown",
   "metadata": {},
   "source": [
    "#### Модель с интерсептом"
   ]
  },
  {
   "cell_type": "code",
   "execution_count": 24,
   "metadata": {},
   "outputs": [
    {
     "data": {
      "text/plain": [
       "array([[  1.,  35.],\n",
       "       [  1.,  45.],\n",
       "       [  1., 190.],\n",
       "       [  1., 200.],\n",
       "       [  1.,  40.],\n",
       "       [  1.,  70.],\n",
       "       [  1.,  54.],\n",
       "       [  1., 150.],\n",
       "       [  1., 120.],\n",
       "       [  1., 110.]])"
      ]
     },
     "execution_count": 24,
     "metadata": {},
     "output_type": "execute_result"
    }
   ],
   "source": [
    "# Добавим единичный столбец к X\n",
    "X = np.hstack([np.ones((10,1)),X])\n",
    "X"
   ]
  },
  {
   "cell_type": "code",
   "execution_count": 25,
   "metadata": {},
   "outputs": [
    {
     "data": {
      "text/plain": [
       "array([[444.17735732],\n",
       "       [  2.62053888]])"
      ]
     },
     "execution_count": 25,
     "metadata": {},
     "output_type": "execute_result"
    }
   ],
   "source": [
    "# Найдем коэффииценты beta\n",
    "B = np.dot(np.linalg.inv(np.dot(X.T,X)),X.T@Y)\n",
    "B"
   ]
  },
  {
   "cell_type": "markdown",
   "metadata": {},
   "source": [
    "Ответ: B0=444.17736; B1=2.62054"
   ]
  },
  {
   "cell_type": "markdown",
   "metadata": {},
   "source": [
    "### Задание 2\n",
    "\n",
    "Посчитать коэффициент линейной регрессии при заработной плате (zp), используя градиентный спуск (без intercept)."
   ]
  },
  {
   "cell_type": "code",
   "execution_count": 26,
   "metadata": {},
   "outputs": [
    {
     "data": {
      "text/plain": [
       "array([ 35,  45, 190, 200,  40,  70,  54, 150, 120, 110])"
      ]
     },
     "execution_count": 26,
     "metadata": {},
     "output_type": "execute_result"
    }
   ],
   "source": [
    "X = np.array([35, 45, 190, 200, 40, 70, 54, 150, 120, 110])\n",
    "X"
   ]
  },
  {
   "cell_type": "code",
   "execution_count": 27,
   "metadata": {},
   "outputs": [
    {
     "data": {
      "text/plain": [
       "array([401, 574, 874, 919, 459, 739, 653, 902, 746, 832])"
      ]
     },
     "execution_count": 27,
     "metadata": {},
     "output_type": "execute_result"
    }
   ],
   "source": [
    "y = np.array([401, 574, 874, 919, 459, 739, 653, 902, 746, 832])\n",
    "y"
   ]
  },
  {
   "cell_type": "code",
   "execution_count": 28,
   "metadata": {},
   "outputs": [],
   "source": [
    "# функция для вычисления дисперсии\n",
    "def mse_(B1,y=y,X=X,n=10):\n",
    "    return np.sum((B1*X-y)**2)/n"
   ]
  },
  {
   "cell_type": "code",
   "execution_count": 29,
   "metadata": {},
   "outputs": [
    {
     "data": {
      "text/plain": [
       "1e-06"
      ]
     },
     "execution_count": 29,
     "metadata": {},
     "output_type": "execute_result"
    }
   ],
   "source": [
    "# Зададим параметр alpha\n",
    "alpha = 1e-6\n",
    "alpha"
   ]
  },
  {
   "cell_type": "code",
   "execution_count": 30,
   "metadata": {},
   "outputs": [],
   "source": [
    "# Определяем стартовую точку отсчета, выбирая число из интервала от -3 до 3 (стандартного нормального распределения)\n",
    "B1=3"
   ]
  },
  {
   "cell_type": "code",
   "execution_count": 31,
   "metadata": {},
   "outputs": [],
   "source": [
    "# Указываем число измеренимй\n",
    "n=10"
   ]
  },
  {
   "cell_type": "code",
   "execution_count": 32,
   "metadata": {},
   "outputs": [
    {
     "name": "stdout",
     "output_type": "stream",
     "text": [
      "Iteration: 0, B1=3.0796238, mse=165313.49342220597\n",
      "Iteration: 10, B1=3.7646428550705346, mse=118737.21475713658\n",
      "Iteration: 20, B1=4.282680318017608, mse=92100.42901992159\n",
      "Iteration: 30, B1=4.6744399501478515, mse=76866.95879117158\n",
      "Iteration: 40, B1=4.970703483857776, mse=68154.99866581765\n",
      "Iteration: 50, B1=5.1947492359150225, mse=63172.66384085349\n",
      "Iteration: 60, B1=5.36418115480939, mse=60323.28666845249\n",
      "Iteration: 70, B1=5.492312015924274, mse=58693.73936666948\n",
      "Iteration: 80, B1=5.589209446332751, mse=57761.80784336377\n",
      "Iteration: 90, B1=5.662486968532084, mse=57228.839967450825\n",
      "Iteration: 100, B1=5.71790221780173, mse=56924.037790840746\n",
      "Iteration: 110, B1=5.759809336921608, mse=56749.7226565428\n",
      "Iteration: 120, B1=5.791501094264104, mse=56650.03253495885\n",
      "Iteration: 130, B1=5.815467606507113, mse=56593.020156880244\n",
      "Iteration: 140, B1=5.833591994589687, mse=56560.4150080196\n",
      "Iteration: 150, B1=5.84729834618716, mse=56541.76825501522\n",
      "Iteration: 160, B1=5.857663610562303, mse=56531.10425225011\n",
      "Iteration: 170, B1=5.865502217707503, mse=56525.00555211998\n",
      "Iteration: 180, B1=5.871430070558429, mse=56521.51773013639\n",
      "Iteration: 190, B1=5.875912938339824, mse=56519.52305882452\n",
      "Iteration: 200, B1=5.879303053454158, mse=56518.382314353905\n",
      "Iteration: 210, B1=5.881866787440721, mse=56517.729927196415\n",
      "Iteration: 220, B1=5.8838055805885014, mse=56517.35682961475\n",
      "Iteration: 230, B1=5.885271769705462, mse=56517.14345661403\n",
      "Iteration: 240, B1=5.88638055767965, mse=56517.021429456305\n",
      "Iteration: 250, B1=5.887219065316544, mse=56516.95164261747\n",
      "Iteration: 260, B1=5.887853176682736, mse=56516.91173180604\n",
      "Iteration: 270, B1=5.888332715815167, mse=56516.88890697413\n",
      "Iteration: 280, B1=5.888695361545545, mse=56516.87585354486\n",
      "Iteration: 290, B1=5.888969608039453, mse=56516.86838834139\n",
      "Iteration: 300, B1=5.889177003668632, mse=56516.86411902167\n",
      "Iteration: 310, B1=5.889333844131348, mse=56516.861677414934\n",
      "Iteration: 320, B1=5.889452452854407, mse=56516.86028106994\n",
      "Iteration: 330, B1=5.889542149281859, mse=56516.85948250584\n",
      "Iteration: 340, B1=5.889609981131747, mse=56516.85902581026\n",
      "Iteration: 350, B1=5.889661278156497, mse=56516.85876462791\n",
      "Iteration: 360, B1=5.8897000709176055, mse=56516.85861525877\n",
      "Iteration: 370, B1=5.88972940747897, mse=56516.858529835146\n",
      "Iteration: 380, B1=5.8897515929024395, mse=56516.85848098174\n",
      "Iteration: 390, B1=5.889768370363451, mse=56516.85845304269\n",
      "Iteration: 400, B1=5.88978105811757, mse=56516.85843706442\n",
      "Iteration: 410, B1=5.88979065307979, mse=56516.85842792656\n",
      "Iteration: 420, B1=5.889797909155148, mse=56516.85842270062\n",
      "Iteration: 430, B1=5.8898033964753065, mse=56516.858419711934\n",
      "Iteration: 440, B1=5.88980754619551, mse=56516.85841800271\n",
      "Iteration: 450, B1=5.889810684371756, mse=56516.85841702521\n",
      "Iteration: 460, B1=5.889813057579988, mse=56516.858416466195\n",
      "Iteration: 470, B1=5.889814852290316, mse=56516.858416146504\n",
      "Iteration: 480, B1=5.889816209518523, mse=56516.85841596367\n",
      "Iteration: 490, B1=5.889817235906114, mse=56516.8584158591\n",
      "Iteration: 500, B1=5.889818012099447, mse=56516.85841579931\n",
      "Iteration: 510, B1=5.889818599086366, mse=56516.85841576509\n",
      "Iteration: 520, B1=5.8898190429882, mse=56516.858415745526\n",
      "Iteration: 530, B1=5.889819378683648, mse=56516.85841573436\n",
      "Iteration: 540, B1=5.889819632549314, mse=56516.858415727955\n",
      "Iteration: 550, B1=5.889819824532187, mse=56516.85841572429\n",
      "Iteration: 560, B1=5.889819969716936, mse=56516.85841572222\n",
      "Iteration: 570, B1=5.889820079511167, mse=56516.858415721006\n",
      "Iteration: 580, B1=5.8898201625417395, mse=56516.85841572031\n",
      "Iteration: 590, B1=5.889820225332617, mse=56516.85841571992\n",
      "Iteration: 600, B1=5.889820272817466, mse=56516.85841571972\n",
      "Iteration: 610, B1=5.889820308727315, mse=56516.85841571957\n",
      "Iteration: 620, B1=5.889820335883708, mse=56516.85841571949\n",
      "Iteration: 630, B1=5.8898203564204055, mse=56516.85841571946\n",
      "Iteration: 640, B1=5.889820371951037, mse=56516.85841571945\n",
      "Iteration: 650, B1=5.889820383695891, mse=56516.85841571943\n",
      "Iteration: 660, B1=5.889820392577796, mse=56516.85841571943\n",
      "Iteration: 670, B1=5.88982039929463, mse=56516.85841571941\n",
      "Iteration: 680, B1=5.889820404374156, mse=56516.8584157194\n",
      "Iteration: 690, B1=5.8898204082154875, mse=56516.85841571943\n"
     ]
    }
   ],
   "source": [
    "# Вычислим коэффициент B1\n",
    "for i in range(700):\n",
    "    B1 -=alpha*(2/n)*np.sum((B1*X-y)*X)\n",
    "    if i%10==0:\n",
    "        print('Iteration: {i}, B1={B1}, mse={mse}'.format(i=i, B1=B1, mse=mse_(B1)))"
   ]
  },
  {
   "cell_type": "markdown",
   "metadata": {},
   "source": [
    "Ответ: B1 = 5.88982"
   ]
  },
  {
   "cell_type": "markdown",
   "metadata": {},
   "source": [
    "### Задание 3\n",
    "\n",
    "В каких случаях для вычисления доверительных интервалов и проверки статистических гипотез используется таблица значений функции Лапласа, а в каких - таблица критических точек распределения Стьюдента?"
   ]
  },
  {
   "cell_type": "markdown",
   "metadata": {},
   "source": [
    "Ответ: Таблица значений функции Лапласа используется в случаях, когда дисперсия известна. Таблица критическимх распределений Стьюдента используется, когда дисперсия неизвестна."
   ]
  },
  {
   "cell_type": "markdown",
   "metadata": {},
   "source": [
    "### *Задание 4\n",
    "\n",
    "Произвести вычисления как в пункте 2, но с вычислением intercept. Учесть, что изменение коэффициентов должно производиться на каждом шаге одновременно (то есть изменение одного коэффициента не должно влиять на изменение другого во время одной итерации)."
   ]
  },
  {
   "cell_type": "code",
   "execution_count": 33,
   "metadata": {},
   "outputs": [
    {
     "data": {
      "text/plain": [
       "array([ 35,  45, 190, 200,  40,  70,  54, 150, 120, 110])"
      ]
     },
     "execution_count": 33,
     "metadata": {},
     "output_type": "execute_result"
    }
   ],
   "source": [
    "X = np.array([35, 45, 190, 200, 40, 70, 54, 150, 120, 110])\n",
    "X"
   ]
  },
  {
   "cell_type": "code",
   "execution_count": 34,
   "metadata": {},
   "outputs": [
    {
     "data": {
      "text/plain": [
       "array([401, 574, 874, 919, 459, 739, 653, 902, 746, 832])"
      ]
     },
     "execution_count": 34,
     "metadata": {},
     "output_type": "execute_result"
    }
   ],
   "source": [
    "y = np.array([401, 574, 874, 919, 459, 739, 653, 902, 746, 832])\n",
    "y"
   ]
  },
  {
   "cell_type": "code",
   "execution_count": 35,
   "metadata": {},
   "outputs": [
    {
     "data": {
      "text/plain": [
       "1e-06"
      ]
     },
     "execution_count": 35,
     "metadata": {},
     "output_type": "execute_result"
    }
   ],
   "source": [
    "# Зададим параметр скорости обучения alpha\n",
    "alpha = 1e-6\n",
    "alpha"
   ]
  },
  {
   "cell_type": "code",
   "execution_count": 36,
   "metadata": {},
   "outputs": [],
   "source": [
    "# Определяем стартовую точку отсчета, выбирая число из интервала от -3 до 3 (стандартного нормального распределения)\n",
    "B0=400\n",
    "B1=2"
   ]
  },
  {
   "cell_type": "code",
   "execution_count": 37,
   "metadata": {},
   "outputs": [],
   "source": [
    "# Указываем число измеренимй\n",
    "n=10"
   ]
  },
  {
   "cell_type": "code",
   "execution_count": 38,
   "metadata": {},
   "outputs": [
    {
     "name": "stdout",
     "output_type": "stream",
     "text": [
      "Iteration: 0, B0=400.0002142, B1=2.026057, mse=262183.14277120255\n",
      "Iteration: 100, B0=400.008809527687, B1=2.889386815391907, mse=180542.10260033142\n",
      "Iteration: 200, B0=400.0114388248051, B1=2.9421787864388618, mse=176216.1039510793\n",
      "Iteration: 300, B0=400.01370308992017, B1=2.9453924404332663, mse=175955.24302372086\n",
      "Iteration: 400, B0=400.01594492034997, B1=2.94557352914863, mse=175940.5520354071\n",
      "Iteration: 500, B0=400.01818527181325, B1=2.94556912516954, mse=175940.9093015348\n",
      "Iteration: 600, B0=400.0204254261181, B1=2.9455533759099084, mse=175942.18694072092\n",
      "Iteration: 700, B0=400.0226654616744, B1=2.945536933476686, mse=175943.52082004835\n",
      "Iteration: 800, B0=400.02490538328396, B1=2.945520449429224, mse=175944.85808277532\n",
      "Iteration: 900, B0=400.0271451912452, B1=2.945503963621536, mse=175946.19549578807\n"
     ]
    }
   ],
   "source": [
    "# Вычислим коэффициенты B0 и B1\n",
    "for i in range(1000):\n",
    "    \n",
    "    # рассчитываем результирующий массив с текущими коэффициентами B0 и B1\n",
    "    # на основе обучающей выборки\n",
    "    yhat = B0 + B1 * X\n",
    "    \n",
    "    # считаем отклонение нового результата от истинного:\n",
    "    error = y - yhat\n",
    "    \n",
    "    # считаем градиенты (по формуле производной) \n",
    "    # для коэффициента B0\n",
    "    B0_grad = -2 * error.mean()\n",
    "    # для коэффициента B1\n",
    "    B1_grad = -2 * (X * error).mean()\n",
    "    \n",
    "    # обновляем параметры, используя параметр скорости обучения\n",
    "    B0 = B0 - alpha * B0_grad\n",
    "    B1 = B1 - alpha * B1_grad\n",
    "    \n",
    "    if i%100==0:\n",
    "        print('Iteration: {i}, B0={B0}, B1={B1}, mse={mse}'.format(i=i, B0=B0, B1=B1, mse=mse_(B1)))"
   ]
  },
  {
   "cell_type": "code",
   "execution_count": null,
   "metadata": {},
   "outputs": [],
   "source": []
  }
 ],
 "metadata": {
  "kernelspec": {
   "display_name": "Python 3",
   "language": "python",
   "name": "python3"
  },
  "language_info": {
   "codemirror_mode": {
    "name": "ipython",
    "version": 3
   },
   "file_extension": ".py",
   "mimetype": "text/x-python",
   "name": "python",
   "nbconvert_exporter": "python",
   "pygments_lexer": "ipython3",
   "version": "3.7.6"
  }
 },
 "nbformat": 4,
 "nbformat_minor": 4
}
